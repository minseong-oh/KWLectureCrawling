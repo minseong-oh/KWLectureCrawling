{
 "cells": [
  {
   "cell_type": "code",
   "execution_count": 1,
   "id": "2b8bf83f",
   "metadata": {},
   "outputs": [],
   "source": [
    "import pandas as pd\n",
    "import openpyxl"
   ]
  },
  {
   "cell_type": "code",
   "execution_count": 9,
   "id": "3134d09e",
   "metadata": {
    "scrolled": true
   },
   "outputs": [],
   "source": [
    "data = openpyxl.load_workbook(\"2022_2학기강의목록.xlsx\")\n",
    "names = data.sheetnames"
   ]
  },
  {
   "cell_type": "code",
   "execution_count": 3,
   "id": "72fd5883",
   "metadata": {},
   "outputs": [],
   "source": [
    "d = pd.read_excel('2022_2학기강의목록.xlsx')\n",
    "col = d.columns[0:10]"
   ]
  },
  {
   "cell_type": "code",
   "execution_count": 4,
   "id": "0a1b10e6",
   "metadata": {},
   "outputs": [],
   "source": [
    "df = pd.DataFrame()\n",
    "# 인덱스를 지정해 시트 설정\n",
    "for name in names:\n",
    "    sub_df = pd.read_excel('2022_2학기강의목록.xlsx', sheet_name = name)\n",
    "    if sub_df.columns[0] == 'Column1':\n",
    "        sub_df.columns = col\n",
    "    \n",
    "    df = pd.concat([df,sub_df])"
   ]
  },
  {
   "cell_type": "code",
   "execution_count": 5,
   "id": "92c4fe03",
   "metadata": {},
   "outputs": [
    {
     "name": "stdout",
     "output_type": "stream",
     "text": [
      "<class 'pandas.core.frame.DataFrame'>\n",
      "Int64Index: 1446 entries, 0 to 63\n",
      "Data columns (total 10 columns):\n",
      " #   Column        Non-Null Count  Dtype \n",
      "---  ------        --------------  ----- \n",
      " 0   학정번호          1446 non-null   object\n",
      " 1   과목명           1446 non-null   object\n",
      " 2   분반            390 non-null    object\n",
      " 3   인증/\n",
      "연계        96 non-null     object\n",
      " 4   이수            1446 non-null   object\n",
      " 5   학점            1446 non-null   int64 \n",
      " 6   시수            1446 non-null   int64 \n",
      " 7   담당교수          1375 non-null   object\n",
      " 8   강의시간\n",
      "(요일,교시)  1394 non-null   object\n",
      " 9   강의유형          730 non-null    object\n",
      "dtypes: int64(2), object(8)\n",
      "memory usage: 124.3+ KB\n"
     ]
    }
   ],
   "source": [
    "df.info()"
   ]
  },
  {
   "cell_type": "code",
   "execution_count": 10,
   "id": "3adbccf5",
   "metadata": {},
   "outputs": [],
   "source": [
    "df.to_csv(\"2022년2학기.csv\", index=False)"
   ]
  },
  {
   "cell_type": "code",
   "execution_count": null,
   "id": "7d4cd9b5",
   "metadata": {},
   "outputs": [],
   "source": []
  }
 ],
 "metadata": {
  "kernelspec": {
   "display_name": "Python 3 (ipykernel)",
   "language": "python",
   "name": "python3"
  },
  "language_info": {
   "codemirror_mode": {
    "name": "ipython",
    "version": 3
   },
   "file_extension": ".py",
   "mimetype": "text/x-python",
   "name": "python",
   "nbconvert_exporter": "python",
   "pygments_lexer": "ipython3",
   "version": "3.8.8"
  }
 },
 "nbformat": 4,
 "nbformat_minor": 5
}
